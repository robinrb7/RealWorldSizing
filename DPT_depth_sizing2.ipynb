{
  "nbformat": 4,
  "nbformat_minor": 0,
  "metadata": {
    "colab": {
      "provenance": [],
      "gpuType": "T4",
      "authorship_tag": "ABX9TyOL/+WjSu+/qyEfc3sUf6KV",
      "include_colab_link": true
    },
    "kernelspec": {
      "name": "python3",
      "display_name": "Python 3"
    },
    "language_info": {
      "name": "python"
    },
    "accelerator": "GPU"
  },
  "cells": [
    {
      "cell_type": "markdown",
      "metadata": {
        "id": "view-in-github",
        "colab_type": "text"
      },
      "source": [
        "<a href=\"https://colab.research.google.com/github/robinrb7/RealWorldSizing/blob/main/DPT_depth_sizing2.ipynb\" target=\"_parent\"><img src=\"https://colab.research.google.com/assets/colab-badge.svg\" alt=\"Open In Colab\"/></a>"
      ]
    },
    {
      "cell_type": "code",
      "execution_count": 1,
      "metadata": {
        "colab": {
          "base_uri": "https://localhost:8080/"
        },
        "id": "IFMG9HLZi4py",
        "outputId": "13271179-8b0e-4e68-cd2d-655304edfa27"
      },
      "outputs": [
        {
          "output_type": "stream",
          "name": "stdout",
          "text": [
            "Looking in indexes: https://download.pytorch.org/whl/cu118\n",
            "Requirement already satisfied: torch in /usr/local/lib/python3.11/dist-packages (2.6.0+cu118)\n",
            "Requirement already satisfied: torchvision in /usr/local/lib/python3.11/dist-packages (0.21.0+cu118)\n",
            "Requirement already satisfied: torchaudio in /usr/local/lib/python3.11/dist-packages (2.6.0+cu118)\n",
            "Requirement already satisfied: filelock in /usr/local/lib/python3.11/dist-packages (from torch) (3.18.0)\n",
            "Requirement already satisfied: typing-extensions>=4.10.0 in /usr/local/lib/python3.11/dist-packages (from torch) (4.12.2)\n",
            "Requirement already satisfied: networkx in /usr/local/lib/python3.11/dist-packages (from torch) (3.4.2)\n",
            "Requirement already satisfied: jinja2 in /usr/local/lib/python3.11/dist-packages (from torch) (3.1.6)\n",
            "Requirement already satisfied: fsspec in /usr/local/lib/python3.11/dist-packages (from torch) (2025.3.0)\n",
            "Requirement already satisfied: nvidia-cuda-nvrtc-cu11==11.8.89 in /usr/local/lib/python3.11/dist-packages (from torch) (11.8.89)\n",
            "Requirement already satisfied: nvidia-cuda-runtime-cu11==11.8.89 in /usr/local/lib/python3.11/dist-packages (from torch) (11.8.89)\n",
            "Requirement already satisfied: nvidia-cuda-cupti-cu11==11.8.87 in /usr/local/lib/python3.11/dist-packages (from torch) (11.8.87)\n",
            "Requirement already satisfied: nvidia-cudnn-cu11==9.1.0.70 in /usr/local/lib/python3.11/dist-packages (from torch) (9.1.0.70)\n",
            "Requirement already satisfied: nvidia-cublas-cu11==11.11.3.6 in /usr/local/lib/python3.11/dist-packages (from torch) (11.11.3.6)\n",
            "Requirement already satisfied: nvidia-cufft-cu11==10.9.0.58 in /usr/local/lib/python3.11/dist-packages (from torch) (10.9.0.58)\n",
            "Requirement already satisfied: nvidia-curand-cu11==10.3.0.86 in /usr/local/lib/python3.11/dist-packages (from torch) (10.3.0.86)\n",
            "Requirement already satisfied: nvidia-cusolver-cu11==11.4.1.48 in /usr/local/lib/python3.11/dist-packages (from torch) (11.4.1.48)\n",
            "Requirement already satisfied: nvidia-cusparse-cu11==11.7.5.86 in /usr/local/lib/python3.11/dist-packages (from torch) (11.7.5.86)\n",
            "Requirement already satisfied: nvidia-nccl-cu11==2.21.5 in /usr/local/lib/python3.11/dist-packages (from torch) (2.21.5)\n",
            "Requirement already satisfied: nvidia-nvtx-cu11==11.8.86 in /usr/local/lib/python3.11/dist-packages (from torch) (11.8.86)\n",
            "Requirement already satisfied: triton==3.2.0 in /usr/local/lib/python3.11/dist-packages (from torch) (3.2.0)\n",
            "Requirement already satisfied: sympy==1.13.1 in /usr/local/lib/python3.11/dist-packages (from torch) (1.13.1)\n",
            "Requirement already satisfied: mpmath<1.4,>=1.1.0 in /usr/local/lib/python3.11/dist-packages (from sympy==1.13.1->torch) (1.3.0)\n",
            "Requirement already satisfied: numpy in /usr/local/lib/python3.11/dist-packages (from torchvision) (2.0.2)\n",
            "Requirement already satisfied: pillow!=8.3.*,>=5.3.0 in /usr/local/lib/python3.11/dist-packages (from torchvision) (11.1.0)\n",
            "Requirement already satisfied: MarkupSafe>=2.0 in /usr/local/lib/python3.11/dist-packages (from jinja2->torch) (3.0.2)\n",
            "Requirement already satisfied: transformers in /usr/local/lib/python3.11/dist-packages (4.50.0)\n",
            "Requirement already satisfied: filelock in /usr/local/lib/python3.11/dist-packages (from transformers) (3.18.0)\n",
            "Requirement already satisfied: huggingface-hub<1.0,>=0.26.0 in /usr/local/lib/python3.11/dist-packages (from transformers) (0.29.3)\n",
            "Requirement already satisfied: numpy>=1.17 in /usr/local/lib/python3.11/dist-packages (from transformers) (2.0.2)\n",
            "Requirement already satisfied: packaging>=20.0 in /usr/local/lib/python3.11/dist-packages (from transformers) (24.2)\n",
            "Requirement already satisfied: pyyaml>=5.1 in /usr/local/lib/python3.11/dist-packages (from transformers) (6.0.2)\n",
            "Requirement already satisfied: regex!=2019.12.17 in /usr/local/lib/python3.11/dist-packages (from transformers) (2024.11.6)\n",
            "Requirement already satisfied: requests in /usr/local/lib/python3.11/dist-packages (from transformers) (2.32.3)\n",
            "Requirement already satisfied: tokenizers<0.22,>=0.21 in /usr/local/lib/python3.11/dist-packages (from transformers) (0.21.1)\n",
            "Requirement already satisfied: safetensors>=0.4.3 in /usr/local/lib/python3.11/dist-packages (from transformers) (0.5.3)\n",
            "Requirement already satisfied: tqdm>=4.27 in /usr/local/lib/python3.11/dist-packages (from transformers) (4.67.1)\n",
            "Requirement already satisfied: fsspec>=2023.5.0 in /usr/local/lib/python3.11/dist-packages (from huggingface-hub<1.0,>=0.26.0->transformers) (2025.3.0)\n",
            "Requirement already satisfied: typing-extensions>=3.7.4.3 in /usr/local/lib/python3.11/dist-packages (from huggingface-hub<1.0,>=0.26.0->transformers) (4.12.2)\n",
            "Requirement already satisfied: charset-normalizer<4,>=2 in /usr/local/lib/python3.11/dist-packages (from requests->transformers) (3.4.1)\n",
            "Requirement already satisfied: idna<4,>=2.5 in /usr/local/lib/python3.11/dist-packages (from requests->transformers) (3.10)\n",
            "Requirement already satisfied: urllib3<3,>=1.21.1 in /usr/local/lib/python3.11/dist-packages (from requests->transformers) (2.3.0)\n",
            "Requirement already satisfied: certifi>=2017.4.17 in /usr/local/lib/python3.11/dist-packages (from requests->transformers) (2025.1.31)\n",
            "Requirement already satisfied: pillow in /usr/local/lib/python3.11/dist-packages (11.1.0)\n",
            "Requirement already satisfied: requests in /usr/local/lib/python3.11/dist-packages (2.32.3)\n",
            "Requirement already satisfied: supervision in /usr/local/lib/python3.11/dist-packages (0.25.1)\n",
            "Requirement already satisfied: exifread in /usr/local/lib/python3.11/dist-packages (3.0.0)\n",
            "Requirement already satisfied: charset-normalizer<4,>=2 in /usr/local/lib/python3.11/dist-packages (from requests) (3.4.1)\n",
            "Requirement already satisfied: idna<4,>=2.5 in /usr/local/lib/python3.11/dist-packages (from requests) (3.10)\n",
            "Requirement already satisfied: urllib3<3,>=1.21.1 in /usr/local/lib/python3.11/dist-packages (from requests) (2.3.0)\n",
            "Requirement already satisfied: certifi>=2017.4.17 in /usr/local/lib/python3.11/dist-packages (from requests) (2025.1.31)\n",
            "Requirement already satisfied: contourpy>=1.0.7 in /usr/local/lib/python3.11/dist-packages (from supervision) (1.3.1)\n",
            "Requirement already satisfied: defusedxml<0.8.0,>=0.7.1 in /usr/local/lib/python3.11/dist-packages (from supervision) (0.7.1)\n",
            "Requirement already satisfied: matplotlib>=3.6.0 in /usr/local/lib/python3.11/dist-packages (from supervision) (3.10.0)\n",
            "Requirement already satisfied: numpy>=1.21.2 in /usr/local/lib/python3.11/dist-packages (from supervision) (2.0.2)\n",
            "Requirement already satisfied: opencv-python>=4.5.5.64 in /usr/local/lib/python3.11/dist-packages (from supervision) (4.11.0.86)\n",
            "Requirement already satisfied: pyyaml>=5.3 in /usr/local/lib/python3.11/dist-packages (from supervision) (6.0.2)\n",
            "Requirement already satisfied: scipy<2.0.0,>=1.10.0 in /usr/local/lib/python3.11/dist-packages (from supervision) (1.14.1)\n",
            "Requirement already satisfied: tqdm>=4.62.3 in /usr/local/lib/python3.11/dist-packages (from supervision) (4.67.1)\n",
            "Requirement already satisfied: cycler>=0.10 in /usr/local/lib/python3.11/dist-packages (from matplotlib>=3.6.0->supervision) (0.12.1)\n",
            "Requirement already satisfied: fonttools>=4.22.0 in /usr/local/lib/python3.11/dist-packages (from matplotlib>=3.6.0->supervision) (4.56.0)\n",
            "Requirement already satisfied: kiwisolver>=1.3.1 in /usr/local/lib/python3.11/dist-packages (from matplotlib>=3.6.0->supervision) (1.4.8)\n",
            "Requirement already satisfied: packaging>=20.0 in /usr/local/lib/python3.11/dist-packages (from matplotlib>=3.6.0->supervision) (24.2)\n",
            "Requirement already satisfied: pyparsing>=2.3.1 in /usr/local/lib/python3.11/dist-packages (from matplotlib>=3.6.0->supervision) (3.2.1)\n",
            "Requirement already satisfied: python-dateutil>=2.7 in /usr/local/lib/python3.11/dist-packages (from matplotlib>=3.6.0->supervision) (2.8.2)\n",
            "Requirement already satisfied: six>=1.5 in /usr/local/lib/python3.11/dist-packages (from python-dateutil>=2.7->matplotlib>=3.6.0->supervision) (1.17.0)\n"
          ]
        }
      ],
      "source": [
        "# Step 1: Install necessary libraries (run this in a Colab cell)\n",
        "!pip install torch torchvision torchaudio --index-url https://download.pytorch.org/whl/cu118\n",
        "!pip install transformers\n",
        "!pip install pillow requests supervision exifread"
      ]
    },
    {
      "cell_type": "code",
      "source": [
        "!pip uninstall torch torchvision torchaudio -y"
      ],
      "metadata": {
        "colab": {
          "base_uri": "https://localhost:8080/"
        },
        "id": "q8vrJzbE9pkB",
        "outputId": "0204a4d0-22bd-4066-bbc3-25a9e721e736"
      },
      "execution_count": 2,
      "outputs": [
        {
          "output_type": "stream",
          "name": "stdout",
          "text": [
            "Found existing installation: torch 2.6.0+cu118\n",
            "Uninstalling torch-2.6.0+cu118:\n",
            "  Successfully uninstalled torch-2.6.0+cu118\n",
            "Found existing installation: torchvision 0.21.0+cu118\n",
            "Uninstalling torchvision-0.21.0+cu118:\n",
            "  Successfully uninstalled torchvision-0.21.0+cu118\n",
            "Found existing installation: torchaudio 2.6.0+cu118\n",
            "Uninstalling torchaudio-2.6.0+cu118:\n",
            "  Successfully uninstalled torchaudio-2.6.0+cu118\n"
          ]
        }
      ]
    },
    {
      "cell_type": "code",
      "source": [
        "# Install PyTorch with CUDA 11.8\n",
        "!pip install torch torchvision torchaudio --index-url https://download.pytorch.org/whl/cu118\n"
      ],
      "metadata": {
        "colab": {
          "base_uri": "https://localhost:8080/"
        },
        "id": "cU_YxyAC9sNi",
        "outputId": "f16968b9-961f-4140-bb94-45708608c563"
      },
      "execution_count": 3,
      "outputs": [
        {
          "output_type": "stream",
          "name": "stdout",
          "text": [
            "Looking in indexes: https://download.pytorch.org/whl/cu118\n",
            "Collecting torch\n",
            "  Using cached https://download.pytorch.org/whl/cu118/torch-2.6.0%2Bcu118-cp311-cp311-linux_x86_64.whl.metadata (27 kB)\n",
            "Collecting torchvision\n",
            "  Using cached https://download.pytorch.org/whl/cu118/torchvision-0.21.0%2Bcu118-cp311-cp311-linux_x86_64.whl.metadata (6.1 kB)\n",
            "Collecting torchaudio\n",
            "  Using cached https://download.pytorch.org/whl/cu118/torchaudio-2.6.0%2Bcu118-cp311-cp311-linux_x86_64.whl.metadata (6.6 kB)\n",
            "Requirement already satisfied: filelock in /usr/local/lib/python3.11/dist-packages (from torch) (3.18.0)\n",
            "Requirement already satisfied: typing-extensions>=4.10.0 in /usr/local/lib/python3.11/dist-packages (from torch) (4.12.2)\n",
            "Requirement already satisfied: networkx in /usr/local/lib/python3.11/dist-packages (from torch) (3.4.2)\n",
            "Requirement already satisfied: jinja2 in /usr/local/lib/python3.11/dist-packages (from torch) (3.1.6)\n",
            "Requirement already satisfied: fsspec in /usr/local/lib/python3.11/dist-packages (from torch) (2025.3.0)\n",
            "Requirement already satisfied: nvidia-cuda-nvrtc-cu11==11.8.89 in /usr/local/lib/python3.11/dist-packages (from torch) (11.8.89)\n",
            "Requirement already satisfied: nvidia-cuda-runtime-cu11==11.8.89 in /usr/local/lib/python3.11/dist-packages (from torch) (11.8.89)\n",
            "Requirement already satisfied: nvidia-cuda-cupti-cu11==11.8.87 in /usr/local/lib/python3.11/dist-packages (from torch) (11.8.87)\n",
            "Requirement already satisfied: nvidia-cudnn-cu11==9.1.0.70 in /usr/local/lib/python3.11/dist-packages (from torch) (9.1.0.70)\n",
            "Requirement already satisfied: nvidia-cublas-cu11==11.11.3.6 in /usr/local/lib/python3.11/dist-packages (from torch) (11.11.3.6)\n",
            "Requirement already satisfied: nvidia-cufft-cu11==10.9.0.58 in /usr/local/lib/python3.11/dist-packages (from torch) (10.9.0.58)\n",
            "Requirement already satisfied: nvidia-curand-cu11==10.3.0.86 in /usr/local/lib/python3.11/dist-packages (from torch) (10.3.0.86)\n",
            "Requirement already satisfied: nvidia-cusolver-cu11==11.4.1.48 in /usr/local/lib/python3.11/dist-packages (from torch) (11.4.1.48)\n",
            "Requirement already satisfied: nvidia-cusparse-cu11==11.7.5.86 in /usr/local/lib/python3.11/dist-packages (from torch) (11.7.5.86)\n",
            "Requirement already satisfied: nvidia-nccl-cu11==2.21.5 in /usr/local/lib/python3.11/dist-packages (from torch) (2.21.5)\n",
            "Requirement already satisfied: nvidia-nvtx-cu11==11.8.86 in /usr/local/lib/python3.11/dist-packages (from torch) (11.8.86)\n",
            "Requirement already satisfied: triton==3.2.0 in /usr/local/lib/python3.11/dist-packages (from torch) (3.2.0)\n",
            "Requirement already satisfied: sympy==1.13.1 in /usr/local/lib/python3.11/dist-packages (from torch) (1.13.1)\n",
            "Requirement already satisfied: mpmath<1.4,>=1.1.0 in /usr/local/lib/python3.11/dist-packages (from sympy==1.13.1->torch) (1.3.0)\n",
            "Requirement already satisfied: numpy in /usr/local/lib/python3.11/dist-packages (from torchvision) (2.0.2)\n",
            "Requirement already satisfied: pillow!=8.3.*,>=5.3.0 in /usr/local/lib/python3.11/dist-packages (from torchvision) (11.1.0)\n",
            "Requirement already satisfied: MarkupSafe>=2.0 in /usr/local/lib/python3.11/dist-packages (from jinja2->torch) (3.0.2)\n",
            "Using cached https://download.pytorch.org/whl/cu118/torch-2.6.0%2Bcu118-cp311-cp311-linux_x86_64.whl (848.7 MB)\n",
            "Using cached https://download.pytorch.org/whl/cu118/torchvision-0.21.0%2Bcu118-cp311-cp311-linux_x86_64.whl (6.5 MB)\n",
            "Using cached https://download.pytorch.org/whl/cu118/torchaudio-2.6.0%2Bcu118-cp311-cp311-linux_x86_64.whl (3.3 MB)\n",
            "Installing collected packages: torch, torchvision, torchaudio\n",
            "Successfully installed torch-2.6.0+cu118 torchaudio-2.6.0+cu118 torchvision-0.21.0+cu118\n"
          ]
        }
      ]
    },
    {
      "cell_type": "code",
      "source": [
        "# Step 2: Import Libraries\n",
        "import torch\n",
        "import numpy as np\n",
        "import matplotlib.pyplot as plt\n",
        "from PIL import Image, ImageDraw\n",
        "import requests\n",
        "import supervision as sv\n",
        "import exifread\n",
        "\n",
        "# Hugging Face Transformers\n",
        "from transformers import (\n",
        "    AutoProcessor, AutoModelForZeroShotObjectDetection,\n",
        "    SamModel, SamProcessor, AutoImageProcessor, AutoModelForDepthEstimation\n",
        ")"
      ],
      "metadata": {
        "id": "9H5vWsc89uSf"
      },
      "execution_count": 4,
      "outputs": []
    },
    {
      "cell_type": "code",
      "source": [
        "# Step 3: Load Models\n",
        "\n",
        "# Grounding DINO\n",
        "model_id = \"IDEA-Research/grounding-dino-base\"\n",
        "processor = AutoProcessor.from_pretrained(model_id)\n",
        "detection_model = AutoModelForZeroShotObjectDetection.from_pretrained(model_id).to(\"cuda\")"
      ],
      "metadata": {
        "colab": {
          "base_uri": "https://localhost:8080/"
        },
        "id": "QjiARRhJ9wbz",
        "outputId": "7bca46be-cf18-464f-93ad-1fea260b1762"
      },
      "execution_count": 5,
      "outputs": [
        {
          "output_type": "stream",
          "name": "stderr",
          "text": [
            "UserWarning: \n",
            "The secret `HF_TOKEN` does not exist in your Colab secrets.\n",
            "To authenticate with the Hugging Face Hub, create a token in your settings tab (https://huggingface.co/settings/tokens), set it as secret in your Google Colab and restart your session.\n",
            "You will be able to reuse this secret in all of your notebooks.\n",
            "Please note that authentication is recommended but still optional to access public models or datasets.\n"
          ]
        }
      ]
    },
    {
      "cell_type": "code",
      "source": [
        "# Segment Anything Model (SAM)\n",
        "sam_processor = SamProcessor.from_pretrained(\"facebook/sam-vit-base\")\n",
        "sam_model = SamModel.from_pretrained(\"facebook/sam-vit-base\").to(\"cuda\")"
      ],
      "metadata": {
        "id": "QgaD2Fkq9yge"
      },
      "execution_count": 6,
      "outputs": []
    },
    {
      "cell_type": "code",
      "source": [
        "# Depth Estimation with DPT-Large (NYU Depth V2)\n",
        "depth_model_id = \"Intel/dpt-large\"  # Using DPT-Large fine-tuned on NYU Depth V2\n",
        "depth_processor = AutoImageProcessor.from_pretrained(depth_model_id)\n",
        "depth_model = AutoModelForDepthEstimation.from_pretrained(depth_model_id).to(\"cuda\")"
      ],
      "metadata": {
        "colab": {
          "base_uri": "https://localhost:8080/"
        },
        "id": "eJQoGsnC91U-",
        "outputId": "682f8f88-2b35-45f4-ef48-247c583dca2f"
      },
      "execution_count": 7,
      "outputs": [
        {
          "output_type": "stream",
          "name": "stderr",
          "text": [
            "Using a slow image processor as `use_fast` is unset and a slow processor was saved with this model. `use_fast=True` will be the default behavior in v4.50, even if the model was saved with a slow processor. This will result in minor differences in outputs. You'll still be able to use a slow processor with `use_fast=False`.\n",
            "Some weights of DPTForDepthEstimation were not initialized from the model checkpoint at Intel/dpt-large and are newly initialized: ['neck.fusion_stage.layers.0.residual_layer1.convolution1.bias', 'neck.fusion_stage.layers.0.residual_layer1.convolution1.weight', 'neck.fusion_stage.layers.0.residual_layer1.convolution2.bias', 'neck.fusion_stage.layers.0.residual_layer1.convolution2.weight']\n",
            "You should probably TRAIN this model on a down-stream task to be able to use it for predictions and inference.\n"
          ]
        }
      ]
    },
    {
      "cell_type": "code",
      "source": [
        "# Step 4: Load and Process Image\n",
        "\n",
        "# Load image\n",
        "image_path = \"/content/ex4.jpg\"\n",
        "image = Image.open(image_path)"
      ],
      "metadata": {
        "id": "Q9J0Ttfp93H5"
      },
      "execution_count": 8,
      "outputs": []
    },
    {
      "cell_type": "code",
      "source": [
        "# Define text prompt\n",
        "text_prompt = \"a bottle. a cup.\"  # Replace with your object description\n",
        "\n",
        "# Preprocess image and text prompt\n",
        "inputs = processor(images=image, text=text_prompt, return_tensors=\"pt\").to(\"cuda\")\n",
        "\n",
        "# Run Grounding DINO\n",
        "with torch.no_grad():\n",
        "    outputs = detection_model(**inputs)\n",
        "\n",
        "# Post-process results\n",
        "target_sizes = [image.size[::-1]]  # (height, width)\n",
        "results = processor.post_process_grounded_object_detection(\n",
        "    outputs,\n",
        "    inputs.input_ids,\n",
        "    box_threshold=0.27,\n",
        "    text_threshold=0.35,\n",
        "    target_sizes=target_sizes\n",
        ")"
      ],
      "metadata": {
        "colab": {
          "base_uri": "https://localhost:8080/"
        },
        "id": "SeGF9dyN96Ib",
        "outputId": "50ffc2b2-7ab9-4dd3-cf68-d4066efaeb5e"
      },
      "execution_count": 9,
      "outputs": [
        {
          "output_type": "stream",
          "name": "stderr",
          "text": [
            "FutureWarning: `box_threshold` is deprecated and will be removed in version 4.51.0 for `GroundingDinoProcessor.post_process_grounded_object_detection`. Use `threshold` instead.\n"
          ]
        }
      ]
    },
    {
      "cell_type": "code",
      "source": [
        "# Extract bounding boxes, labels, and scores\n",
        "boxes = results[0][\"boxes\"].cpu().numpy()\n",
        "labels = results[0][\"labels\"]\n",
        "scores = results[0][\"scores\"].cpu().numpy()"
      ],
      "metadata": {
        "colab": {
          "base_uri": "https://localhost:8080/"
        },
        "id": "g-z9TiKK-ALr",
        "outputId": "52acd053-befc-4b9d-b692-80689e7ace6b"
      },
      "execution_count": 10,
      "outputs": [
        {
          "output_type": "stream",
          "name": "stderr",
          "text": [
            "FutureWarning: The key `labels` is will return integer ids in `GroundingDinoProcessor.post_process_grounded_object_detection` output since v4.51.0. Use `text_labels` instead to retrieve string object names.\n"
          ]
        }
      ]
    },
    {
      "cell_type": "code",
      "source": [
        "# Step 5: Segment Objects Using SAM\n",
        "\n",
        "def calculate_pixel_dimensions(mask):\n",
        "    \"\"\"Calculate the actual pixel width and height of the segmented object from the mask.\"\"\"\n",
        "    if mask.ndim == 3:  # If mask is 3D, take the first channel\n",
        "        mask = mask[0]\n",
        "\n",
        "    y_indices, x_indices = np.where(mask > 0)  # Get object pixel locations\n",
        "\n",
        "    if len(y_indices) == 0 or len(x_indices) == 0:\n",
        "        return 0, 0  # No object detected\n",
        "\n",
        "    height = np.max(y_indices) - np.min(y_indices) + 1\n",
        "    width = np.max(x_indices) - np.min(x_indices) + 1\n",
        "\n",
        "    return width, height"
      ],
      "metadata": {
        "id": "eha3iZH7-Lr4"
      },
      "execution_count": 11,
      "outputs": []
    },
    {
      "cell_type": "code",
      "source": [
        "# Store pixel dimensions\n",
        "object_pixel_dimensions = []"
      ],
      "metadata": {
        "id": "An4wvebC-Now"
      },
      "execution_count": 12,
      "outputs": []
    },
    {
      "cell_type": "code",
      "source": [
        "# Process each detected object\n",
        "for idx, (box, label, score) in enumerate(zip(boxes, labels, scores)):\n",
        "    if score > 0.25:  # Confidence threshold\n",
        "        x_min, y_min, x_max, y_max = box\n",
        "\n",
        "        # Use the bounding box center as the input point for SAM\n",
        "        input_points = [[[(x_min + x_max) / 2, (y_min + y_max) / 2]]]\n",
        "\n",
        "        # Prepare inputs for SAM\n",
        "        inputs_sam = sam_processor(\n",
        "            image,\n",
        "            input_points=input_points,\n",
        "            return_tensors=\"pt\"\n",
        "        ).to(\"cuda\")\n",
        "\n",
        "        # Run SAM\n",
        "        with torch.no_grad():\n",
        "            outputs_sam = sam_model(**inputs_sam)\n",
        "\n",
        "        # Post-process SAM masks\n",
        "        masks = sam_processor.image_processor.post_process_masks(\n",
        "            outputs_sam.pred_masks.cpu(),\n",
        "            inputs_sam[\"original_sizes\"].cpu(),\n",
        "            inputs_sam[\"reshaped_input_sizes\"].cpu(),\n",
        "        )\n",
        "\n",
        "        # Extract first mask\n",
        "        mask = masks[0][0, 0].cpu().numpy()  # Ensure correct shape\n",
        "\n",
        "        # Calculate pixel width and height of the actual object\n",
        "        width, height = calculate_pixel_dimensions(mask)\n",
        "        object_pixel_dimensions.append((width, height))\n",
        "\n",
        "        # Display results\n",
        "        print(f\"Object {idx + 1} ({label}): Width = {width} px, Height = {height} px\")\n",
        "\n",
        "        # Visualize the mask\n",
        "        plt.figure(figsize=(6, 6))\n",
        "        plt.imshow(mask, cmap=\"gray\")\n",
        "        plt.title(f\"Segmented Object {idx + 1} - {label}\")\n",
        "        plt.axis(\"off\")\n",
        "        plt.show()\n"
      ],
      "metadata": {
        "colab": {
          "base_uri": "https://localhost:8080/",
          "height": 538
        },
        "id": "hKUA4W83-P8T",
        "outputId": "10fc4160-6c65-4e3d-d302-b5a32e68049f"
      },
      "execution_count": 13,
      "outputs": [
        {
          "output_type": "stream",
          "name": "stdout",
          "text": [
            "Object 1 (a bottle): Width = 557 px, Height = 2128 px\n"
          ]
        },
        {
          "output_type": "display_data",
          "data": {
            "text/plain": [
              "<Figure size 600x600 with 1 Axes>"
            ],
            "image/png": "[encoded data removed]"
          },
          "metadata": {}
        }
      ]
    },
    {
      "cell_type": "code",
      "source": [
        "# Step 6: Estimate Depth Using DPT-Large (NYU Depth V2)\n",
        "inputs_depth = depth_processor(images=image, return_tensors=\"pt\").to(\"cuda\")\n",
        "\n",
        "with torch.no_grad():\n",
        "    outputs_depth = depth_model(**inputs_depth)\n",
        "    predicted_depth = outputs_depth.predicted_depth\n",
        "\n",
        "# Resize depth map to match original image\n",
        "prediction = torch.nn.functional.interpolate(\n",
        "    predicted_depth.unsqueeze(1),\n",
        "    size=image.size[::-1],\n",
        "    mode=\"bicubic\",\n",
        "    align_corners=False,\n",
        ")"
      ],
      "metadata": {
        "id": "sW37xcVd-T8H"
      },
      "execution_count": 14,
      "outputs": []
    },
    {
      "cell_type": "code",
      "source": [
        "depth_map = prediction.squeeze().cpu().numpy()"
      ],
      "metadata": {
        "id": "PpfGKo3V-X4X"
      },
      "execution_count": 15,
      "outputs": []
    },
    {
      "cell_type": "code",
      "source": [
        "# Normalize depth values (NYU Depth V2 is in meters)\n",
        "depth_map = depth_map / depth_map.max()"
      ],
      "metadata": {
        "id": "gqbOtDqZ-ZZw"
      },
      "execution_count": 16,
      "outputs": []
    },
    {
      "cell_type": "code",
      "source": [
        "# Store estimated depths\n",
        "estimated_depths = []"
      ],
      "metadata": {
        "id": "A-7XMxCH-czX"
      },
      "execution_count": 17,
      "outputs": []
    },
    {
      "cell_type": "code",
      "source": [
        "# Extract depth for each detected object using segmentation mask\n",
        "for idx, (box, label, score) in enumerate(zip(boxes, labels, scores)):\n",
        "    if score > 0.25:\n",
        "        mask = masks[0][0].cpu().numpy()\n",
        "        if mask.ndim == 3:  # Ensure mask is 2D\n",
        "            mask = mask[0]\n",
        "\n",
        "        object_depths = depth_map[mask > 0]  # Select only the depths where the object is detected\n",
        "\n",
        "        if object_depths.size > 0:\n",
        "            median_depth = np.median(object_depths)  # Use median to reduce noise\n",
        "        else:\n",
        "            median_depth = 0  # Default to zero if no depth values found\n",
        "\n",
        "        estimated_depths.append(median_depth)\n",
        "        print(f\"Object {idx + 1} ({label}): Estimated Depth = {median_depth:.2f} meters\")"
      ],
      "metadata": {
        "colab": {
          "base_uri": "https://localhost:8080/"
        },
        "id": "I6Upav_q-gRE",
        "outputId": "cc33c304-c03e-4861-cb70-7aa8006cece8"
      },
      "execution_count": 18,
      "outputs": [
        {
          "output_type": "stream",
          "name": "stdout",
          "text": [
            "Object 1 (a bottle): Estimated Depth = 0.81 meters\n"
          ]
        }
      ]
    },
    {
      "cell_type": "code",
      "source": [
        "# Step 7: Extract Focal Length from Image Metadata\n",
        "\n",
        "def get_focal_length(image_path):\n",
        "    with open(image_path, \"rb\") as f:\n",
        "        tags = exifread.process_file(f)\n",
        "\n",
        "    focal_length = tags.get(\"EXIF FocalLength\", \"N/A\")\n",
        "    if focal_length != \"N/A\":\n",
        "        focal_length = focal_length.values[0].num / focal_length.values[0].den\n",
        "    return focal_length"
      ],
      "metadata": {
        "id": "oE5wA9sw-iV-"
      },
      "execution_count": 19,
      "outputs": []
    },
    {
      "cell_type": "code",
      "source": [
        "# Get and print focal length\n",
        "focal_length = get_focal_length(image_path)\n",
        "print(f\"📷 Focal Length: {focal_length} mm\")"
      ],
      "metadata": {
        "colab": {
          "base_uri": "https://localhost:8080/"
        },
        "id": "dkFQGC8y-i3h",
        "outputId": "07f78aaf-492c-47e9-d0c2-d72f613a1699"
      },
      "execution_count": 20,
      "outputs": [
        {
          "output_type": "stream",
          "name": "stdout",
          "text": [
            "📷 Focal Length: 4.74 mm\n"
          ]
        }
      ]
    },
    {
      "cell_type": "code",
      "source": [
        "def convert_focal_length_to_pixels(focal_length_mm, image_width, sensor_width=8.4):\n",
        "    return (focal_length_mm * image_width) / sensor_width"
      ],
      "metadata": {
        "id": "Dw3lTgID-nBi"
      },
      "execution_count": 28,
      "outputs": []
    },
    {
      "cell_type": "code",
      "source": [
        "focal_length_px = convert_focal_length_to_pixels(\n",
        "    focal_length_mm=focal_length,\n",
        "    image_width=image.size[0]\n",
        ")"
      ],
      "metadata": {
        "id": "IxyAyeIY-pri"
      },
      "execution_count": 29,
      "outputs": []
    },
    {
      "cell_type": "code",
      "source": [
        "print(f\"📷 Focal Length in Pixels: {focal_length_px:.2f} px\")"
      ],
      "metadata": {
        "colab": {
          "base_uri": "https://localhost:8080/"
        },
        "id": "HfoFphvr-r2w",
        "outputId": "3438f07f-d96a-4429-ab4e-d5952885b53f"
      },
      "execution_count": 30,
      "outputs": [
        {
          "output_type": "stream",
          "name": "stdout",
          "text": [
            "📷 Focal Length in Pixels: 1959.20 px\n"
          ]
        }
      ]
    },
    {
      "cell_type": "code",
      "source": [
        "# Function to calculate real-world object size\n",
        "def calculate_real_world_size(pixel_size, depth, focal_length_px):\n",
        "    \"\"\"\n",
        "    Convert object pixel size to real-world size using pinhole camera model.\n",
        "\n",
        "    :param pixel_size: Width or height of the object in pixels\n",
        "    :param depth: Estimated depth of the object in meters\n",
        "    :param focal_length_px: Focal length in pixels\n",
        "    :return: Real-world size in meters\n",
        "    \"\"\"\n",
        "    return (pixel_size * depth) / focal_length_px"
      ],
      "metadata": {
        "id": "zMOg2VG3-s8A"
      },
      "execution_count": 31,
      "outputs": []
    },
    {
      "cell_type": "code",
      "source": [
        "# Store real-world dimensions\n",
        "real_world_sizes = []"
      ],
      "metadata": {
        "id": "1lMpxmKc_KuD"
      },
      "execution_count": 32,
      "outputs": []
    },
    {
      "cell_type": "code",
      "source": [
        "# Calculate real-world sizes for each detected object\n",
        "for idx, ((pixel_width, pixel_height), depth, label) in enumerate(zip(object_pixel_dimensions, estimated_depths, labels)):\n",
        "    real_width = calculate_real_world_size(pixel_width, depth, focal_length_px)\n",
        "    real_height = calculate_real_world_size(pixel_height, depth, focal_length_px)\n",
        "\n",
        "    real_world_sizes.append((real_width, real_height))\n",
        "\n",
        "    print(f\"📏 Object {idx + 1} ({label}):\")\n",
        "    print(f\"   - Real Width: {real_width:.2f} meters\")\n",
        "    print(f\"   - Real Height: {real_height:.2f} meters\")"
      ],
      "metadata": {
        "colab": {
          "base_uri": "https://localhost:8080/"
        },
        "id": "hKFAji0y_Mce",
        "outputId": "1bc189e4-6ea2-4ae6-e04b-ef173d894633"
      },
      "execution_count": 33,
      "outputs": [
        {
          "output_type": "stream",
          "name": "stdout",
          "text": [
            "📏 Object 1 (a bottle):\n",
            "   - Real Width: 0.23 meters\n",
            "   - Real Height: 0.88 meters\n"
          ]
        }
      ]
    }
  ]
}